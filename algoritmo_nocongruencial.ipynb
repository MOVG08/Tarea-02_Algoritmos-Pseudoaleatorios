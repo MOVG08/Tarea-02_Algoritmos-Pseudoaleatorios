{
 "cells": [
  {
   "cell_type": "code",
   "execution_count": 8,
   "metadata": {},
   "outputs": [],
   "source": [
    "import pandas as pd"
   ]
  },
  {
   "cell_type": "code",
   "execution_count": 47,
   "metadata": {},
   "outputs": [],
   "source": [
    "def producto_medio(seed1, seed2, n):\n",
    "\n",
    "    resultados = []\n",
    "    x = seed1\n",
    "    y = seed2\n",
    "    \n",
    "    for i in range(n):\n",
    "        # Multiplicar las dos semillas\n",
    "        producto = x * y\n",
    "        #Convertir el valor en string\n",
    "        prod_str = str(producto)\n",
    "        #Quitarle el primer y ultimo digito (obtener los de en medio)\n",
    "        medio = prod_str[1:-1]\n",
    "        #Actualizar los valores para la próxima iteración\n",
    "        x = int(medio)\n",
    "        y = x % 1000 #Limitar los digitos de y a 3\n",
    "    \n",
    "        # El número generado es el medio del producto\n",
    "        resultados.append(x)\n",
    "\n",
    "    return resultados"
   ]
  },
  {
   "cell_type": "code",
   "execution_count": 48,
   "metadata": {},
   "outputs": [
    {
     "name": "stdout",
     "output_type": "stream",
     "text": [
      "Números aleatorios generados:\n",
      "    Número Aleatorio\n",
      "0                122\n",
      "1                488\n",
      "2               3814\n",
      "3              10459\n",
      "4              80068\n",
      "5              44462\n",
      "6              54144\n",
      "7              79673\n",
      "8             361992\n",
      "9            5909606\n",
      "10          58122123\n",
      "11          14902112\n",
      "12          66903654\n",
      "13         375498971\n",
      "14        6460950084\n"
     ]
    }
   ],
   "source": [
    "# Ejemplo de uso\n",
    "semilla1 = 124\n",
    "semilla2 = 655\n",
    "# Cantidad de números aleatorios a generar\n",
    "n = 15\n",
    "aleatorios = producto_medio(semilla1, semilla2, n)\n",
    "\n",
    "# Crear una tabla con pandas\n",
    "df = pd.DataFrame(aleatorios, columns=[\"Número Aleatorio\"])\n",
    "\n",
    "# Mostrar la tabla\n",
    "print(\"Números aleatorios generados:\")\n",
    "print(df)"
   ]
  }
 ],
 "metadata": {
  "kernelspec": {
   "display_name": "base",
   "language": "python",
   "name": "python3"
  },
  "language_info": {
   "codemirror_mode": {
    "name": "ipython",
    "version": 3
   },
   "file_extension": ".py",
   "mimetype": "text/x-python",
   "name": "python",
   "nbconvert_exporter": "python",
   "pygments_lexer": "ipython3",
   "version": "3.11.5"
  }
 },
 "nbformat": 4,
 "nbformat_minor": 2
}
